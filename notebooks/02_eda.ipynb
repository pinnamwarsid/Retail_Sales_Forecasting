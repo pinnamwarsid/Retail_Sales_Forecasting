{
 "cells": [
  {
   "cell_type": "code",
   "execution_count": null,
   "metadata": {},
   "outputs": [],
   "source": [
    "import pandas as pd\n",
    "import matplotlib.pyplot as plt\n",
    "import seaborn as sns\n",
    "\n",
    "# Load cleaned data\n",
    "df = pd.read_csv(\"data/processed/cleaned_sales_data.csv\")\n",
    "\n",
    "# Summary statistics\n",
    "print(\"Summary Statistics:\")\n",
    "print(df.describe())\n",
    "\n",
    "# Visualize sales trends over time\n",
    "plt.figure(figsize=(12, 6))\n",
    "sns.lineplot(data=df.groupby('Order Date')['Sales'].sum().reset_index(), x='Order Date', y='Sales')\n",
    "plt.title(\"Daily Sales Over Time\")\n",
    "plt.xlabel(\"Order Date\")\n",
    "plt.ylabel(\"Total Sales\")\n",
    "plt.show()\n",
    "\n",
    "# Analyze profit margin distribution\n",
    "plt.figure(figsize=(8, 6))\n",
    "sns.histplot(df['Profit Margin'], bins=30, kde=True)\n",
    "plt.title(\"Profit Margin Distribution\")\n",
    "plt.xlabel(\"Profit Margin\")\n",
    "plt.ylabel(\"Frequency\")\n",
    "plt.show()\n",
    "\n",
    "# Analyze sales by region\n",
    "plt.figure(figsize=(10, 6))\n",
    "sns.barplot(data=df.groupby('Region')['Sales'].sum().reset_index(), x='Region', y='Sales')\n",
    "plt.title(\"Sales by Region\")\n",
    "plt.xlabel(\"Region\")\n",
    "plt.ylabel(\"Total Sales\")\n",
    "plt.xticks(rotation=45)\n",
    "plt.show()"
   ]
  }
 ],
 "metadata": {
  "kernelspec": {
   "display_name": "base",
   "language": "python",
   "name": "python3"
  },
  "language_info": {
   "name": "python",
   "version": "3.12.4"
  }
 },
 "nbformat": 4,
 "nbformat_minor": 2
}
