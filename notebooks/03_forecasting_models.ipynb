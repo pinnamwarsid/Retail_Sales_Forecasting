{
 "cells": [
  {
   "cell_type": "code",
   "execution_count": null,
   "metadata": {},
   "outputs": [],
   "source": [
    "import pandas as pd\n",
    "from sklearn.model_selection import train_test_split\n",
    "from sklearn.linear_model import LinearRegression\n",
    "from sklearn.metrics import mean_squared_error\n",
    "import joblib\n",
    "import logging\n",
    "\n",
    "# Configure logging\n",
    "logging.basicConfig(filename=\"logs/model_training.log\", level=logging.INFO, format=\"%(asctime)s - %(message)s\")\n",
    "\n",
    "def train_forecasting_model(input_file, model_file):\n",
    "    try:\n",
    "        # Load cleaned data\n",
    "        df = pd.read_csv(input_file)\n",
    "        logging.info(\"Cleaned data loaded successfully.\")\n",
    "\n",
    "        # Feature selection\n",
    "        X = df[['Order Month', 'Profit Margin']]  # Example features\n",
    "        y = df['Sales']\n",
    "\n",
    "        # Train-test split\n",
    "        X_train, X_test, y_train, y_test = train_test_split(X, y, test_size=0.2, random_state=42)\n",
    "        logging.info(\"Data split into training and testing sets.\")\n",
    "\n",
    "        # Train model\n",
    "        model = LinearRegression()\n",
    "        model.fit(X_train, y_train)\n",
    "        logging.info(\"Model training completed.\")\n",
    "\n",
    "        # Evaluate model\n",
    "        y_pred = model.predict(X_test)\n",
    "        mse = mean_squared_error(y_test, y_pred)\n",
    "        logging.info(f\"Model MSE: {mse}\")\n",
    "\n",
    "        # Save model\n",
    "        joblib.dump(model, model_file)\n",
    "        logging.info(f\"Model saved to {model_file}.\")\n",
    "\n",
    "    except Exception as e:\n",
    "        logging.error(f\"Error during model training: {e}\")\n",
    "\n",
    "if __name__ == \"__main__\":\n",
    "    train_forecasting_model(\"data/processed/cleaned_sales_data.csv\", \"models/sales_forecasting_model.pkl\")"
   ]
  }
 ],
 "metadata": {
  "kernelspec": {
   "display_name": "base",
   "language": "python",
   "name": "python3"
  },
  "language_info": {
   "name": "python",
   "version": "3.12.4"
  }
 },
 "nbformat": 4,
 "nbformat_minor": 2
}
