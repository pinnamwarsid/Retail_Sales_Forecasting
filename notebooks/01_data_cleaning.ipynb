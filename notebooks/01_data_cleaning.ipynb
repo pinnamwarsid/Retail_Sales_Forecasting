{
 "cells": [
  {
   "cell_type": "code",
   "execution_count": null,
   "metadata": {},
   "outputs": [],
   "source": [
    "# Load the raw dataset\n",
    "import pandas as pd\n",
    "\n",
    "file_path = \"data/raw/sales_data.csv\"\n",
    "df = pd.read_csv(file_path)\n",
    "print(\"Raw Data:\")\n",
    "df.head()\n",
    "# Convert date columns to datetime\n",
    "df['Order Date'] = pd.to_datetime(df['Order Date'], errors='coerce')\n",
    "df['Ship Date'] = pd.to_datetime(df['Ship Date'], errors='coerce')\n",
    "\n",
    "# Handle missing values\n",
    "df.fillna(method='ffill', inplace=True)\n",
    "\n",
    "# Create new features\n",
    "df['Order Year'] = df['Order Date'].dt.year\n",
    "df['Order Month'] = df['Order Date'].dt.month\n",
    "df['Profit Margin'] = df['Profit'] / df['Sales']\n",
    "\n",
    "print(\"Cleaned Data:\")\n",
    "df.head()\n",
    "# Save the cleaned data\n",
    "output_file = \"data/processed/cleaned_sales_data.csv\"\n",
    "df.to_csv(output_file, index=False)\n",
    "print(f\"Cleaned data saved to {output_file}\")"
   ]
  }
 ],
 "metadata": {
  "kernelspec": {
   "display_name": "base",
   "language": "python",
   "name": "python3"
  },
  "language_info": {
   "name": "python",
   "version": "3.12.4"
  }
 },
 "nbformat": 4,
 "nbformat_minor": 2
}
